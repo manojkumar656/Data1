{
 "cells": [
  {
   "cell_type": "code",
   "execution_count": 1,
   "metadata": {},
   "outputs": [],
   "source": [
    "# For this practical example we will need the following libraries and modules\n",
    "import numpy as np\n",
    "import pandas as pd\n",
    "import statsmodels.api as sm\n",
    "import matplotlib.pyplot as plt\n",
    "from sklearn.linear_model import LinearRegression\n",
    "import seaborn as sns\n",
    "sns.set()"
   ]
  },
  {
   "cell_type": "code",
   "execution_count": 2,
   "metadata": {},
   "outputs": [
    {
     "data": {
      "text/html": [
       "<div>\n",
       "<style scoped>\n",
       "    .dataframe tbody tr th:only-of-type {\n",
       "        vertical-align: middle;\n",
       "    }\n",
       "\n",
       "    .dataframe tbody tr th {\n",
       "        vertical-align: top;\n",
       "    }\n",
       "\n",
       "    .dataframe thead th {\n",
       "        text-align: right;\n",
       "    }\n",
       "</style>\n",
       "<table border=\"1\" class=\"dataframe\">\n",
       "  <thead>\n",
       "    <tr style=\"text-align: right;\">\n",
       "      <th></th>\n",
       "      <th>Issuer Company</th>\n",
       "      <th>Listing Date</th>\n",
       "      <th>Issue Price</th>\n",
       "      <th>Issue Size</th>\n",
       "      <th>QIB</th>\n",
       "      <th>NII</th>\n",
       "      <th>RII</th>\n",
       "      <th>EMP</th>\n",
       "      <th>Total</th>\n",
       "      <th>Open Price</th>\n",
       "      <th>Low Price</th>\n",
       "      <th>High Price</th>\n",
       "      <th>Close Price</th>\n",
       "      <th>Change</th>\n",
       "      <th>Year</th>\n",
       "    </tr>\n",
       "  </thead>\n",
       "  <tbody>\n",
       "    <tr>\n",
       "      <th>0</th>\n",
       "      <td>MSTC Limited IPO</td>\n",
       "      <td>29-Mar-19</td>\n",
       "      <td>120</td>\n",
       "      <td>212.04</td>\n",
       "      <td>1.13</td>\n",
       "      <td>2.15</td>\n",
       "      <td>2.95</td>\n",
       "      <td>1.54</td>\n",
       "      <td>1.46</td>\n",
       "      <td>111.0</td>\n",
       "      <td>110.05</td>\n",
       "      <td>116.55</td>\n",
       "      <td>114.20</td>\n",
       "      <td>-4.83</td>\n",
       "      <td>2019</td>\n",
       "    </tr>\n",
       "    <tr>\n",
       "      <th>1</th>\n",
       "      <td>Chalet Hotels Limited IPO</td>\n",
       "      <td>7-Feb-19</td>\n",
       "      <td>280</td>\n",
       "      <td>1641.18</td>\n",
       "      <td>4.66</td>\n",
       "      <td>1.10</td>\n",
       "      <td>0.03</td>\n",
       "      <td>NaN</td>\n",
       "      <td>1.57</td>\n",
       "      <td>291.0</td>\n",
       "      <td>250.15</td>\n",
       "      <td>295.30</td>\n",
       "      <td>290.40</td>\n",
       "      <td>3.71</td>\n",
       "      <td>2019</td>\n",
       "    </tr>\n",
       "    <tr>\n",
       "      <th>2</th>\n",
       "      <td>Xelpmoc Design and Tech Limited IPO</td>\n",
       "      <td>4-Feb-19</td>\n",
       "      <td>66</td>\n",
       "      <td>23.00</td>\n",
       "      <td>1.24</td>\n",
       "      <td>7.69</td>\n",
       "      <td>2.64</td>\n",
       "      <td>NaN</td>\n",
       "      <td>3.25</td>\n",
       "      <td>57.0</td>\n",
       "      <td>55.15</td>\n",
       "      <td>59.85</td>\n",
       "      <td>59.85</td>\n",
       "      <td>-9.32</td>\n",
       "      <td>2019</td>\n",
       "    </tr>\n",
       "    <tr>\n",
       "      <th>3</th>\n",
       "      <td>Garden Reach Shipbuilders &amp; Engineers Limited IPO</td>\n",
       "      <td>10-Oct-18</td>\n",
       "      <td>118</td>\n",
       "      <td>344.69</td>\n",
       "      <td>1.81</td>\n",
       "      <td>0.31</td>\n",
       "      <td>0.24</td>\n",
       "      <td>0.14</td>\n",
       "      <td>1.02</td>\n",
       "      <td>104.0</td>\n",
       "      <td>95.35</td>\n",
       "      <td>109.50</td>\n",
       "      <td>105.10</td>\n",
       "      <td>-10.93</td>\n",
       "      <td>2018</td>\n",
       "    </tr>\n",
       "    <tr>\n",
       "      <th>4</th>\n",
       "      <td>Aavas Financiers Limited IPO</td>\n",
       "      <td>8-Oct-18</td>\n",
       "      <td>821</td>\n",
       "      <td>1734.07</td>\n",
       "      <td>2.77</td>\n",
       "      <td>0.26</td>\n",
       "      <td>0.25</td>\n",
       "      <td>NaN</td>\n",
       "      <td>0.97</td>\n",
       "      <td>758.0</td>\n",
       "      <td>710.00</td>\n",
       "      <td>787.50</td>\n",
       "      <td>773.15</td>\n",
       "      <td>-5.83</td>\n",
       "      <td>2018</td>\n",
       "    </tr>\n",
       "  </tbody>\n",
       "</table>\n",
       "</div>"
      ],
      "text/plain": [
       "                                      Issuer Company Listing Date  \\\n",
       "0                                   MSTC Limited IPO    29-Mar-19   \n",
       "1                          Chalet Hotels Limited IPO     7-Feb-19   \n",
       "2                Xelpmoc Design and Tech Limited IPO     4-Feb-19   \n",
       "3  Garden Reach Shipbuilders & Engineers Limited IPO    10-Oct-18   \n",
       "4                       Aavas Financiers Limited IPO     8-Oct-18   \n",
       "\n",
       "   Issue Price  Issue Size   QIB   NII   RII   EMP  Total  Open Price  \\\n",
       "0          120      212.04  1.13  2.15  2.95  1.54   1.46       111.0   \n",
       "1          280     1641.18  4.66  1.10  0.03   NaN   1.57       291.0   \n",
       "2           66       23.00  1.24  7.69  2.64   NaN   3.25        57.0   \n",
       "3          118      344.69  1.81  0.31  0.24  0.14   1.02       104.0   \n",
       "4          821     1734.07  2.77  0.26  0.25   NaN   0.97       758.0   \n",
       "\n",
       "   Low Price  High Price  Close Price  Change  Year  \n",
       "0     110.05      116.55       114.20   -4.83  2019  \n",
       "1     250.15      295.30       290.40    3.71  2019  \n",
       "2      55.15       59.85        59.85   -9.32  2019  \n",
       "3      95.35      109.50       105.10  -10.93  2018  \n",
       "4     710.00      787.50       773.15   -5.83  2018  "
      ]
     },
     "execution_count": 2,
     "metadata": {},
     "output_type": "execute_result"
    }
   ],
   "source": [
    "data = pd.read_csv('IPO.csv')\n",
    "data.head()\n"
   ]
  },
  {
   "cell_type": "code",
   "execution_count": null,
   "metadata": {},
   "outputs": [],
   "source": []
  },
  {
   "cell_type": "code",
   "execution_count": 3,
   "metadata": {},
   "outputs": [
    {
     "data": {
      "text/html": [
       "<div>\n",
       "<style scoped>\n",
       "    .dataframe tbody tr th:only-of-type {\n",
       "        vertical-align: middle;\n",
       "    }\n",
       "\n",
       "    .dataframe tbody tr th {\n",
       "        vertical-align: top;\n",
       "    }\n",
       "\n",
       "    .dataframe thead th {\n",
       "        text-align: right;\n",
       "    }\n",
       "</style>\n",
       "<table border=\"1\" class=\"dataframe\">\n",
       "  <thead>\n",
       "    <tr style=\"text-align: right;\">\n",
       "      <th></th>\n",
       "      <th>Issue Price</th>\n",
       "      <th>Issue Size</th>\n",
       "      <th>QIB</th>\n",
       "      <th>NII</th>\n",
       "      <th>RII</th>\n",
       "      <th>EMP</th>\n",
       "      <th>Total</th>\n",
       "      <th>Open Price</th>\n",
       "      <th>Low Price</th>\n",
       "      <th>High Price</th>\n",
       "      <th>Close Price</th>\n",
       "      <th>Change</th>\n",
       "      <th>Year</th>\n",
       "    </tr>\n",
       "  </thead>\n",
       "  <tbody>\n",
       "    <tr>\n",
       "      <th>count</th>\n",
       "      <td>400.000000</td>\n",
       "      <td>400.000000</td>\n",
       "      <td>366.000000</td>\n",
       "      <td>373.000000</td>\n",
       "      <td>373.000000</td>\n",
       "      <td>159.000000</td>\n",
       "      <td>375.000000</td>\n",
       "      <td>400.000000</td>\n",
       "      <td>400.00000</td>\n",
       "      <td>400.000000</td>\n",
       "      <td>400.000000</td>\n",
       "      <td>400.000000</td>\n",
       "      <td>400.000000</td>\n",
       "    </tr>\n",
       "    <tr>\n",
       "      <th>mean</th>\n",
       "      <td>258.362500</td>\n",
       "      <td>691.130650</td>\n",
       "      <td>52.294617</td>\n",
       "      <td>48.941877</td>\n",
       "      <td>8.119464</td>\n",
       "      <td>1.032264</td>\n",
       "      <td>22.815493</td>\n",
       "      <td>294.127500</td>\n",
       "      <td>273.95550</td>\n",
       "      <td>331.483375</td>\n",
       "      <td>303.455675</td>\n",
       "      <td>17.775575</td>\n",
       "      <td>2011.022500</td>\n",
       "    </tr>\n",
       "    <tr>\n",
       "      <th>std</th>\n",
       "      <td>267.639952</td>\n",
       "      <td>1618.013118</td>\n",
       "      <td>522.822077</td>\n",
       "      <td>102.519460</td>\n",
       "      <td>13.491152</td>\n",
       "      <td>1.558048</td>\n",
       "      <td>38.569350</td>\n",
       "      <td>322.120466</td>\n",
       "      <td>314.62345</td>\n",
       "      <td>350.476124</td>\n",
       "      <td>336.128338</td>\n",
       "      <td>45.043098</td>\n",
       "      <td>3.874859</td>\n",
       "    </tr>\n",
       "    <tr>\n",
       "      <th>min</th>\n",
       "      <td>10.000000</td>\n",
       "      <td>6.000000</td>\n",
       "      <td>0.010000</td>\n",
       "      <td>0.020000</td>\n",
       "      <td>0.030000</td>\n",
       "      <td>0.010000</td>\n",
       "      <td>0.440000</td>\n",
       "      <td>9.500000</td>\n",
       "      <td>4.75000</td>\n",
       "      <td>9.500000</td>\n",
       "      <td>5.250000</td>\n",
       "      <td>-69.830000</td>\n",
       "      <td>2006.000000</td>\n",
       "    </tr>\n",
       "    <tr>\n",
       "      <th>25%</th>\n",
       "      <td>82.000000</td>\n",
       "      <td>66.082500</td>\n",
       "      <td>1.315000</td>\n",
       "      <td>1.810000</td>\n",
       "      <td>1.210000</td>\n",
       "      <td>0.335000</td>\n",
       "      <td>1.640000</td>\n",
       "      <td>89.500000</td>\n",
       "      <td>76.45000</td>\n",
       "      <td>107.037500</td>\n",
       "      <td>90.650000</td>\n",
       "      <td>-7.150000</td>\n",
       "      <td>2007.000000</td>\n",
       "    </tr>\n",
       "    <tr>\n",
       "      <th>50%</th>\n",
       "      <td>166.500000</td>\n",
       "      <td>166.505000</td>\n",
       "      <td>5.665000</td>\n",
       "      <td>5.110000</td>\n",
       "      <td>3.250000</td>\n",
       "      <td>0.890000</td>\n",
       "      <td>4.800000</td>\n",
       "      <td>180.000000</td>\n",
       "      <td>161.92500</td>\n",
       "      <td>204.500000</td>\n",
       "      <td>180.925000</td>\n",
       "      <td>6.025000</td>\n",
       "      <td>2010.000000</td>\n",
       "    </tr>\n",
       "    <tr>\n",
       "      <th>75%</th>\n",
       "      <td>328.500000</td>\n",
       "      <td>600.000000</td>\n",
       "      <td>35.387500</td>\n",
       "      <td>48.410000</td>\n",
       "      <td>8.700000</td>\n",
       "      <td>1.130000</td>\n",
       "      <td>29.340000</td>\n",
       "      <td>399.000000</td>\n",
       "      <td>355.33750</td>\n",
       "      <td>447.850000</td>\n",
       "      <td>408.912500</td>\n",
       "      <td>31.480000</td>\n",
       "      <td>2015.000000</td>\n",
       "    </tr>\n",
       "    <tr>\n",
       "      <th>max</th>\n",
       "      <td>1766.000000</td>\n",
       "      <td>15199.440000</td>\n",
       "      <td>9999.000000</td>\n",
       "      <td>958.070000</td>\n",
       "      <td>123.800000</td>\n",
       "      <td>16.040000</td>\n",
       "      <td>273.050000</td>\n",
       "      <td>2725.000000</td>\n",
       "      <td>2725.00000</td>\n",
       "      <td>3020.250000</td>\n",
       "      <td>2892.800000</td>\n",
       "      <td>286.250000</td>\n",
       "      <td>2019.000000</td>\n",
       "    </tr>\n",
       "  </tbody>\n",
       "</table>\n",
       "</div>"
      ],
      "text/plain": [
       "       Issue Price    Issue Size          QIB         NII         RII  \\\n",
       "count   400.000000    400.000000   366.000000  373.000000  373.000000   \n",
       "mean    258.362500    691.130650    52.294617   48.941877    8.119464   \n",
       "std     267.639952   1618.013118   522.822077  102.519460   13.491152   \n",
       "min      10.000000      6.000000     0.010000    0.020000    0.030000   \n",
       "25%      82.000000     66.082500     1.315000    1.810000    1.210000   \n",
       "50%     166.500000    166.505000     5.665000    5.110000    3.250000   \n",
       "75%     328.500000    600.000000    35.387500   48.410000    8.700000   \n",
       "max    1766.000000  15199.440000  9999.000000  958.070000  123.800000   \n",
       "\n",
       "              EMP       Total   Open Price   Low Price   High Price  \\\n",
       "count  159.000000  375.000000   400.000000   400.00000   400.000000   \n",
       "mean     1.032264   22.815493   294.127500   273.95550   331.483375   \n",
       "std      1.558048   38.569350   322.120466   314.62345   350.476124   \n",
       "min      0.010000    0.440000     9.500000     4.75000     9.500000   \n",
       "25%      0.335000    1.640000    89.500000    76.45000   107.037500   \n",
       "50%      0.890000    4.800000   180.000000   161.92500   204.500000   \n",
       "75%      1.130000   29.340000   399.000000   355.33750   447.850000   \n",
       "max     16.040000  273.050000  2725.000000  2725.00000  3020.250000   \n",
       "\n",
       "       Close Price      Change         Year  \n",
       "count   400.000000  400.000000   400.000000  \n",
       "mean    303.455675   17.775575  2011.022500  \n",
       "std     336.128338   45.043098     3.874859  \n",
       "min       5.250000  -69.830000  2006.000000  \n",
       "25%      90.650000   -7.150000  2007.000000  \n",
       "50%     180.925000    6.025000  2010.000000  \n",
       "75%     408.912500   31.480000  2015.000000  \n",
       "max    2892.800000  286.250000  2019.000000  "
      ]
     },
     "execution_count": 3,
     "metadata": {},
     "output_type": "execute_result"
    }
   ],
   "source": [
    "data.describe()"
   ]
  },
  {
   "cell_type": "code",
   "execution_count": 4,
   "metadata": {},
   "outputs": [],
   "source": [
    "data = data.drop(['Issuer Company','Low Price', 'High Price', 'Close Price','Change','EMP', 'Listing Date'], axis=1)"
   ]
  },
  {
   "cell_type": "code",
   "execution_count": 5,
   "metadata": {},
   "outputs": [
    {
     "data": {
      "text/html": [
       "<div>\n",
       "<style scoped>\n",
       "    .dataframe tbody tr th:only-of-type {\n",
       "        vertical-align: middle;\n",
       "    }\n",
       "\n",
       "    .dataframe tbody tr th {\n",
       "        vertical-align: top;\n",
       "    }\n",
       "\n",
       "    .dataframe thead th {\n",
       "        text-align: right;\n",
       "    }\n",
       "</style>\n",
       "<table border=\"1\" class=\"dataframe\">\n",
       "  <thead>\n",
       "    <tr style=\"text-align: right;\">\n",
       "      <th></th>\n",
       "      <th>Issue Price</th>\n",
       "      <th>Issue Size</th>\n",
       "      <th>QIB</th>\n",
       "      <th>NII</th>\n",
       "      <th>RII</th>\n",
       "      <th>Total</th>\n",
       "      <th>Open Price</th>\n",
       "      <th>Year</th>\n",
       "    </tr>\n",
       "  </thead>\n",
       "  <tbody>\n",
       "    <tr>\n",
       "      <th>count</th>\n",
       "      <td>400.000000</td>\n",
       "      <td>400.000000</td>\n",
       "      <td>366.000000</td>\n",
       "      <td>373.000000</td>\n",
       "      <td>373.000000</td>\n",
       "      <td>375.000000</td>\n",
       "      <td>400.000000</td>\n",
       "      <td>400.000000</td>\n",
       "    </tr>\n",
       "    <tr>\n",
       "      <th>mean</th>\n",
       "      <td>258.362500</td>\n",
       "      <td>691.130650</td>\n",
       "      <td>52.294617</td>\n",
       "      <td>48.941877</td>\n",
       "      <td>8.119464</td>\n",
       "      <td>22.815493</td>\n",
       "      <td>294.127500</td>\n",
       "      <td>2011.022500</td>\n",
       "    </tr>\n",
       "    <tr>\n",
       "      <th>std</th>\n",
       "      <td>267.639952</td>\n",
       "      <td>1618.013118</td>\n",
       "      <td>522.822077</td>\n",
       "      <td>102.519460</td>\n",
       "      <td>13.491152</td>\n",
       "      <td>38.569350</td>\n",
       "      <td>322.120466</td>\n",
       "      <td>3.874859</td>\n",
       "    </tr>\n",
       "    <tr>\n",
       "      <th>min</th>\n",
       "      <td>10.000000</td>\n",
       "      <td>6.000000</td>\n",
       "      <td>0.010000</td>\n",
       "      <td>0.020000</td>\n",
       "      <td>0.030000</td>\n",
       "      <td>0.440000</td>\n",
       "      <td>9.500000</td>\n",
       "      <td>2006.000000</td>\n",
       "    </tr>\n",
       "    <tr>\n",
       "      <th>25%</th>\n",
       "      <td>82.000000</td>\n",
       "      <td>66.082500</td>\n",
       "      <td>1.315000</td>\n",
       "      <td>1.810000</td>\n",
       "      <td>1.210000</td>\n",
       "      <td>1.640000</td>\n",
       "      <td>89.500000</td>\n",
       "      <td>2007.000000</td>\n",
       "    </tr>\n",
       "    <tr>\n",
       "      <th>50%</th>\n",
       "      <td>166.500000</td>\n",
       "      <td>166.505000</td>\n",
       "      <td>5.665000</td>\n",
       "      <td>5.110000</td>\n",
       "      <td>3.250000</td>\n",
       "      <td>4.800000</td>\n",
       "      <td>180.000000</td>\n",
       "      <td>2010.000000</td>\n",
       "    </tr>\n",
       "    <tr>\n",
       "      <th>75%</th>\n",
       "      <td>328.500000</td>\n",
       "      <td>600.000000</td>\n",
       "      <td>35.387500</td>\n",
       "      <td>48.410000</td>\n",
       "      <td>8.700000</td>\n",
       "      <td>29.340000</td>\n",
       "      <td>399.000000</td>\n",
       "      <td>2015.000000</td>\n",
       "    </tr>\n",
       "    <tr>\n",
       "      <th>max</th>\n",
       "      <td>1766.000000</td>\n",
       "      <td>15199.440000</td>\n",
       "      <td>9999.000000</td>\n",
       "      <td>958.070000</td>\n",
       "      <td>123.800000</td>\n",
       "      <td>273.050000</td>\n",
       "      <td>2725.000000</td>\n",
       "      <td>2019.000000</td>\n",
       "    </tr>\n",
       "  </tbody>\n",
       "</table>\n",
       "</div>"
      ],
      "text/plain": [
       "       Issue Price    Issue Size          QIB         NII         RII  \\\n",
       "count   400.000000    400.000000   366.000000  373.000000  373.000000   \n",
       "mean    258.362500    691.130650    52.294617   48.941877    8.119464   \n",
       "std     267.639952   1618.013118   522.822077  102.519460   13.491152   \n",
       "min      10.000000      6.000000     0.010000    0.020000    0.030000   \n",
       "25%      82.000000     66.082500     1.315000    1.810000    1.210000   \n",
       "50%     166.500000    166.505000     5.665000    5.110000    3.250000   \n",
       "75%     328.500000    600.000000    35.387500   48.410000    8.700000   \n",
       "max    1766.000000  15199.440000  9999.000000  958.070000  123.800000   \n",
       "\n",
       "            Total   Open Price         Year  \n",
       "count  375.000000   400.000000   400.000000  \n",
       "mean    22.815493   294.127500  2011.022500  \n",
       "std     38.569350   322.120466     3.874859  \n",
       "min      0.440000     9.500000  2006.000000  \n",
       "25%      1.640000    89.500000  2007.000000  \n",
       "50%      4.800000   180.000000  2010.000000  \n",
       "75%     29.340000   399.000000  2015.000000  \n",
       "max    273.050000  2725.000000  2019.000000  "
      ]
     },
     "execution_count": 5,
     "metadata": {},
     "output_type": "execute_result"
    }
   ],
   "source": [
    "data.describe()"
   ]
  },
  {
   "cell_type": "code",
   "execution_count": 6,
   "metadata": {},
   "outputs": [],
   "source": [
    "y = data['Open Price']\n",
    "x1 = data.drop(['Open Price'],axis=1)"
   ]
  },
  {
   "cell_type": "code",
   "execution_count": 7,
   "metadata": {},
   "outputs": [
    {
     "data": {
      "text/html": [
       "<div>\n",
       "<style scoped>\n",
       "    .dataframe tbody tr th:only-of-type {\n",
       "        vertical-align: middle;\n",
       "    }\n",
       "\n",
       "    .dataframe tbody tr th {\n",
       "        vertical-align: top;\n",
       "    }\n",
       "\n",
       "    .dataframe thead th {\n",
       "        text-align: right;\n",
       "    }\n",
       "</style>\n",
       "<table border=\"1\" class=\"dataframe\">\n",
       "  <thead>\n",
       "    <tr style=\"text-align: right;\">\n",
       "      <th></th>\n",
       "      <th>Issue Price</th>\n",
       "      <th>Issue Size</th>\n",
       "      <th>QIB</th>\n",
       "      <th>NII</th>\n",
       "      <th>RII</th>\n",
       "      <th>Total</th>\n",
       "      <th>Year</th>\n",
       "    </tr>\n",
       "  </thead>\n",
       "  <tbody>\n",
       "    <tr>\n",
       "      <th>0</th>\n",
       "      <td>120</td>\n",
       "      <td>212.04</td>\n",
       "      <td>1.13</td>\n",
       "      <td>2.15</td>\n",
       "      <td>2.95</td>\n",
       "      <td>1.46</td>\n",
       "      <td>2019</td>\n",
       "    </tr>\n",
       "    <tr>\n",
       "      <th>1</th>\n",
       "      <td>280</td>\n",
       "      <td>1641.18</td>\n",
       "      <td>4.66</td>\n",
       "      <td>1.10</td>\n",
       "      <td>0.03</td>\n",
       "      <td>1.57</td>\n",
       "      <td>2019</td>\n",
       "    </tr>\n",
       "    <tr>\n",
       "      <th>2</th>\n",
       "      <td>66</td>\n",
       "      <td>23.00</td>\n",
       "      <td>1.24</td>\n",
       "      <td>7.69</td>\n",
       "      <td>2.64</td>\n",
       "      <td>3.25</td>\n",
       "      <td>2019</td>\n",
       "    </tr>\n",
       "    <tr>\n",
       "      <th>3</th>\n",
       "      <td>118</td>\n",
       "      <td>344.69</td>\n",
       "      <td>1.81</td>\n",
       "      <td>0.31</td>\n",
       "      <td>0.24</td>\n",
       "      <td>1.02</td>\n",
       "      <td>2018</td>\n",
       "    </tr>\n",
       "    <tr>\n",
       "      <th>4</th>\n",
       "      <td>821</td>\n",
       "      <td>1734.07</td>\n",
       "      <td>2.77</td>\n",
       "      <td>0.26</td>\n",
       "      <td>0.25</td>\n",
       "      <td>0.97</td>\n",
       "      <td>2018</td>\n",
       "    </tr>\n",
       "  </tbody>\n",
       "</table>\n",
       "</div>"
      ],
      "text/plain": [
       "   Issue Price  Issue Size   QIB   NII   RII  Total  Year\n",
       "0          120      212.04  1.13  2.15  2.95   1.46  2019\n",
       "1          280     1641.18  4.66  1.10  0.03   1.57  2019\n",
       "2           66       23.00  1.24  7.69  2.64   3.25  2019\n",
       "3          118      344.69  1.81  0.31  0.24   1.02  2018\n",
       "4          821     1734.07  2.77  0.26  0.25   0.97  2018"
      ]
     },
     "execution_count": 7,
     "metadata": {},
     "output_type": "execute_result"
    }
   ],
   "source": [
    "x1.head()"
   ]
  },
  {
   "cell_type": "code",
   "execution_count": 8,
   "metadata": {},
   "outputs": [
    {
     "data": {
      "text/plain": [
       "Issue Price     0\n",
       "Issue Size      0\n",
       "QIB            34\n",
       "NII            27\n",
       "RII            27\n",
       "Total          25\n",
       "Open Price      0\n",
       "Year            0\n",
       "dtype: int64"
      ]
     },
     "execution_count": 8,
     "metadata": {},
     "output_type": "execute_result"
    }
   ],
   "source": [
    "data.isnull().sum()"
   ]
  },
  {
   "cell_type": "code",
   "execution_count": 9,
   "metadata": {},
   "outputs": [],
   "source": [
    "data=data.dropna(axis=0)"
   ]
  },
  {
   "cell_type": "code",
   "execution_count": 10,
   "metadata": {},
   "outputs": [
    {
     "data": {
      "text/html": [
       "<div>\n",
       "<style scoped>\n",
       "    .dataframe tbody tr th:only-of-type {\n",
       "        vertical-align: middle;\n",
       "    }\n",
       "\n",
       "    .dataframe tbody tr th {\n",
       "        vertical-align: top;\n",
       "    }\n",
       "\n",
       "    .dataframe thead th {\n",
       "        text-align: right;\n",
       "    }\n",
       "</style>\n",
       "<table border=\"1\" class=\"dataframe\">\n",
       "  <thead>\n",
       "    <tr style=\"text-align: right;\">\n",
       "      <th></th>\n",
       "      <th>Issue Price</th>\n",
       "      <th>Issue Size</th>\n",
       "      <th>QIB</th>\n",
       "      <th>NII</th>\n",
       "      <th>RII</th>\n",
       "      <th>Total</th>\n",
       "      <th>Open Price</th>\n",
       "      <th>Year</th>\n",
       "    </tr>\n",
       "  </thead>\n",
       "  <tbody>\n",
       "    <tr>\n",
       "      <th>count</th>\n",
       "      <td>364.000000</td>\n",
       "      <td>364.000000</td>\n",
       "      <td>364.000000</td>\n",
       "      <td>364.000000</td>\n",
       "      <td>364.000000</td>\n",
       "      <td>364.000000</td>\n",
       "      <td>364.000000</td>\n",
       "      <td>364.000000</td>\n",
       "    </tr>\n",
       "    <tr>\n",
       "      <th>mean</th>\n",
       "      <td>277.642857</td>\n",
       "      <td>733.712363</td>\n",
       "      <td>52.549121</td>\n",
       "      <td>50.107665</td>\n",
       "      <td>8.233352</td>\n",
       "      <td>23.441181</td>\n",
       "      <td>316.357830</td>\n",
       "      <td>2011.236264</td>\n",
       "    </tr>\n",
       "    <tr>\n",
       "      <th>std</th>\n",
       "      <td>272.702613</td>\n",
       "      <td>1659.343851</td>\n",
       "      <td>524.248921</td>\n",
       "      <td>103.509901</td>\n",
       "      <td>13.636770</td>\n",
       "      <td>38.976427</td>\n",
       "      <td>329.057191</td>\n",
       "      <td>3.907921</td>\n",
       "    </tr>\n",
       "    <tr>\n",
       "      <th>min</th>\n",
       "      <td>10.000000</td>\n",
       "      <td>14.000000</td>\n",
       "      <td>0.010000</td>\n",
       "      <td>0.030000</td>\n",
       "      <td>0.030000</td>\n",
       "      <td>0.440000</td>\n",
       "      <td>9.500000</td>\n",
       "      <td>2007.000000</td>\n",
       "    </tr>\n",
       "    <tr>\n",
       "      <th>25%</th>\n",
       "      <td>100.000000</td>\n",
       "      <td>80.992500</td>\n",
       "      <td>1.325000</td>\n",
       "      <td>1.840000</td>\n",
       "      <td>1.180000</td>\n",
       "      <td>1.730000</td>\n",
       "      <td>104.000000</td>\n",
       "      <td>2008.000000</td>\n",
       "    </tr>\n",
       "    <tr>\n",
       "      <th>50%</th>\n",
       "      <td>180.500000</td>\n",
       "      <td>214.180000</td>\n",
       "      <td>5.665000</td>\n",
       "      <td>5.535000</td>\n",
       "      <td>3.160000</td>\n",
       "      <td>5.040000</td>\n",
       "      <td>200.000000</td>\n",
       "      <td>2010.000000</td>\n",
       "    </tr>\n",
       "    <tr>\n",
       "      <th>75%</th>\n",
       "      <td>362.500000</td>\n",
       "      <td>619.310000</td>\n",
       "      <td>35.492500</td>\n",
       "      <td>49.112500</td>\n",
       "      <td>9.025000</td>\n",
       "      <td>30.892500</td>\n",
       "      <td>411.612500</td>\n",
       "      <td>2015.000000</td>\n",
       "    </tr>\n",
       "    <tr>\n",
       "      <th>max</th>\n",
       "      <td>1766.000000</td>\n",
       "      <td>15199.440000</td>\n",
       "      <td>9999.000000</td>\n",
       "      <td>958.070000</td>\n",
       "      <td>123.800000</td>\n",
       "      <td>273.050000</td>\n",
       "      <td>2725.000000</td>\n",
       "      <td>2019.000000</td>\n",
       "    </tr>\n",
       "  </tbody>\n",
       "</table>\n",
       "</div>"
      ],
      "text/plain": [
       "       Issue Price    Issue Size          QIB         NII         RII  \\\n",
       "count   364.000000    364.000000   364.000000  364.000000  364.000000   \n",
       "mean    277.642857    733.712363    52.549121   50.107665    8.233352   \n",
       "std     272.702613   1659.343851   524.248921  103.509901   13.636770   \n",
       "min      10.000000     14.000000     0.010000    0.030000    0.030000   \n",
       "25%     100.000000     80.992500     1.325000    1.840000    1.180000   \n",
       "50%     180.500000    214.180000     5.665000    5.535000    3.160000   \n",
       "75%     362.500000    619.310000    35.492500   49.112500    9.025000   \n",
       "max    1766.000000  15199.440000  9999.000000  958.070000  123.800000   \n",
       "\n",
       "            Total   Open Price         Year  \n",
       "count  364.000000   364.000000   364.000000  \n",
       "mean    23.441181   316.357830  2011.236264  \n",
       "std     38.976427   329.057191     3.907921  \n",
       "min      0.440000     9.500000  2007.000000  \n",
       "25%      1.730000   104.000000  2008.000000  \n",
       "50%      5.040000   200.000000  2010.000000  \n",
       "75%     30.892500   411.612500  2015.000000  \n",
       "max    273.050000  2725.000000  2019.000000  "
      ]
     },
     "execution_count": 10,
     "metadata": {},
     "output_type": "execute_result"
    }
   ],
   "source": [
    "data.describe(include='all')"
   ]
  },
  {
   "cell_type": "code",
   "execution_count": 12,
   "metadata": {},
   "outputs": [
    {
     "data": {
      "text/plain": [
       "<matplotlib.axes._subplots.AxesSubplot at 0x2a1e640fa58>"
      ]
     },
     "execution_count": 12,
     "metadata": {},
     "output_type": "execute_result"
    },
    {
     "data": {
      "image/png": "[encoded data removed]",
      "text/plain": [
       "<Figure size 432x288 with 1 Axes>"
      ]
     },
     "metadata": {
      "needs_background": "light"
     },
     "output_type": "display_data"
    }
   ],
   "source": [
    "sns.distplot(data['Open Price'])"
   ]
  },
  {
   "cell_type": "code",
   "execution_count": 13,
   "metadata": {},
   "outputs": [
    {
     "data": {
      "text/plain": [
       "<matplotlib.axes._subplots.AxesSubplot at 0x2a1e64ddeb8>"
      ]
     },
     "execution_count": 13,
     "metadata": {},
     "output_type": "execute_result"
    },
    {
     "data": {
      "image/png": "[encoded data removed]",
      "text/plain": [
       "<Figure size 432x288 with 1 Axes>"
      ]
     },
     "metadata": {
      "needs_background": "light"
     },
     "output_type": "display_data"
    }
   ],
   "source": [
    "sns.distplot(data['Total'])"
   ]
  },
  {
   "cell_type": "code",
   "execution_count": 14,
   "metadata": {},
   "outputs": [
    {
     "data": {
      "image/png": "[encoded data removed]",
      "text/plain": [
       "<Figure size 1080x216 with 6 Axes>"
      ]
     },
     "metadata": {
      "needs_background": "light"
     },
     "output_type": "display_data"
    }
   ],
   "source": [
    "f, (ax1, ax2, ax3, ax4, ax5, ax6 ) = plt.subplots(1, 6, sharey=True, figsize =(15,3)) #sharey -> share 'Price' as y\n",
    "ax1.scatter(data['Year'],data['Open Price'])\n",
    "ax1.set_title('Listening Date and Open Price')\n",
    "\n",
    "ax2.scatter(data['Issue Size'],data['Open Price'])\n",
    "ax2.set_title('Price and Open Price')\n",
    "\n",
    "ax3.scatter(data['QIB'],data['Open Price'])\n",
    "ax3.set_title('QIB and Open Price')\n",
    "\n",
    "ax4.scatter(data['NII'],data['Open Price'])\n",
    "ax4.set_title('NII and Open Price')\n",
    "\n",
    "ax5.scatter(data['RII'],data['Open Price'])\n",
    "ax5.set_title('RII and Open Price')\n",
    "\n",
    "ax6.scatter(data['Total'],data['Open Price'])\n",
    "ax6.set_title('Total and Open Price')\n",
    "\n",
    "\n",
    "plt.show()"
   ]
  },
  {
   "cell_type": "code",
   "execution_count": null,
   "metadata": {},
   "outputs": [],
   "source": []
  },
  {
   "cell_type": "markdown",
   "metadata": {},
   "source": [
    "# Multicollinearity"
   ]
  },
  {
   "cell_type": "code",
   "execution_count": null,
   "metadata": {},
   "outputs": [],
   "source": [
    "\n"
   ]
  },
  {
   "cell_type": "code",
   "execution_count": null,
   "metadata": {},
   "outputs": [],
   "source": []
  },
  {
   "cell_type": "code",
   "execution_count": 16,
   "metadata": {},
   "outputs": [
    {
     "data": {
      "text/plain": [
       "array(['Issue Price', 'Issue Size', 'QIB', 'NII', 'RII', 'Total',\n",
       "       'Open Price', 'Year'], dtype=object)"
      ]
     },
     "execution_count": 16,
     "metadata": {},
     "output_type": "execute_result"
    }
   ],
   "source": [
    "from statsmodels.stats.outliers_influence import variance_inflation_factor\n",
    "data.columns.values"
   ]
  },
  {
   "cell_type": "code",
   "execution_count": null,
   "metadata": {},
   "outputs": [],
   "source": []
  },
  {
   "cell_type": "code",
   "execution_count": 24,
   "metadata": {},
   "outputs": [
    {
     "data": {
      "text/html": [
       "<div>\n",
       "<style scoped>\n",
       "    .dataframe tbody tr th:only-of-type {\n",
       "        vertical-align: middle;\n",
       "    }\n",
       "\n",
       "    .dataframe tbody tr th {\n",
       "        vertical-align: top;\n",
       "    }\n",
       "\n",
       "    .dataframe thead th {\n",
       "        text-align: right;\n",
       "    }\n",
       "</style>\n",
       "<table border=\"1\" class=\"dataframe\">\n",
       "  <thead>\n",
       "    <tr style=\"text-align: right;\">\n",
       "      <th></th>\n",
       "      <th>Issue Price</th>\n",
       "      <th>Issue Size</th>\n",
       "      <th>QIB</th>\n",
       "      <th>RII</th>\n",
       "      <th>Total</th>\n",
       "    </tr>\n",
       "  </thead>\n",
       "  <tbody>\n",
       "    <tr>\n",
       "      <th>0</th>\n",
       "      <td>120</td>\n",
       "      <td>212.04</td>\n",
       "      <td>1.13</td>\n",
       "      <td>2.95</td>\n",
       "      <td>1.46</td>\n",
       "    </tr>\n",
       "    <tr>\n",
       "      <th>1</th>\n",
       "      <td>280</td>\n",
       "      <td>1641.18</td>\n",
       "      <td>4.66</td>\n",
       "      <td>0.03</td>\n",
       "      <td>1.57</td>\n",
       "    </tr>\n",
       "    <tr>\n",
       "      <th>2</th>\n",
       "      <td>66</td>\n",
       "      <td>23.00</td>\n",
       "      <td>1.24</td>\n",
       "      <td>2.64</td>\n",
       "      <td>3.25</td>\n",
       "    </tr>\n",
       "    <tr>\n",
       "      <th>3</th>\n",
       "      <td>118</td>\n",
       "      <td>344.69</td>\n",
       "      <td>1.81</td>\n",
       "      <td>0.24</td>\n",
       "      <td>1.02</td>\n",
       "    </tr>\n",
       "    <tr>\n",
       "      <th>4</th>\n",
       "      <td>821</td>\n",
       "      <td>1734.07</td>\n",
       "      <td>2.77</td>\n",
       "      <td>0.25</td>\n",
       "      <td>0.97</td>\n",
       "    </tr>\n",
       "  </tbody>\n",
       "</table>\n",
       "</div>"
      ],
      "text/plain": [
       "   Issue Price  Issue Size   QIB   RII  Total\n",
       "0          120      212.04  1.13  2.95   1.46\n",
       "1          280     1641.18  4.66  0.03   1.57\n",
       "2           66       23.00  1.24  2.64   3.25\n",
       "3          118      344.69  1.81  0.24   1.02\n",
       "4          821     1734.07  2.77  0.25   0.97"
      ]
     },
     "execution_count": 24,
     "metadata": {},
     "output_type": "execute_result"
    }
   ],
   "source": [
    "variables = data[['Issue Price', 'Issue Size','QIB','RII', 'Total']]\n",
    "# we create a new data frame which will include all the VIFs\n",
    "# note that each variable has its own variance inflation factor as this measure is variable specific (not model specific)\n",
    "vif = pd.DataFrame()\n",
    "\n",
    "variables.head()"
   ]
  },
  {
   "cell_type": "code",
   "execution_count": 25,
   "metadata": {},
   "outputs": [
    {
     "data": {
      "text/html": [
       "<div>\n",
       "<style scoped>\n",
       "    .dataframe tbody tr th:only-of-type {\n",
       "        vertical-align: middle;\n",
       "    }\n",
       "\n",
       "    .dataframe tbody tr th {\n",
       "        vertical-align: top;\n",
       "    }\n",
       "\n",
       "    .dataframe thead th {\n",
       "        text-align: right;\n",
       "    }\n",
       "</style>\n",
       "<table border=\"1\" class=\"dataframe\">\n",
       "  <thead>\n",
       "    <tr style=\"text-align: right;\">\n",
       "      <th></th>\n",
       "      <th>Issue Price</th>\n",
       "      <th>Issue Size</th>\n",
       "      <th>QIB</th>\n",
       "      <th>RII</th>\n",
       "      <th>Total</th>\n",
       "    </tr>\n",
       "  </thead>\n",
       "  <tbody>\n",
       "    <tr>\n",
       "      <th>count</th>\n",
       "      <td>364.000000</td>\n",
       "      <td>364.000000</td>\n",
       "      <td>364.000000</td>\n",
       "      <td>364.000000</td>\n",
       "      <td>364.000000</td>\n",
       "    </tr>\n",
       "    <tr>\n",
       "      <th>mean</th>\n",
       "      <td>277.642857</td>\n",
       "      <td>733.712363</td>\n",
       "      <td>52.549121</td>\n",
       "      <td>8.233352</td>\n",
       "      <td>23.441181</td>\n",
       "    </tr>\n",
       "    <tr>\n",
       "      <th>std</th>\n",
       "      <td>272.702613</td>\n",
       "      <td>1659.343851</td>\n",
       "      <td>524.248921</td>\n",
       "      <td>13.636770</td>\n",
       "      <td>38.976427</td>\n",
       "    </tr>\n",
       "    <tr>\n",
       "      <th>min</th>\n",
       "      <td>10.000000</td>\n",
       "      <td>14.000000</td>\n",
       "      <td>0.010000</td>\n",
       "      <td>0.030000</td>\n",
       "      <td>0.440000</td>\n",
       "    </tr>\n",
       "    <tr>\n",
       "      <th>25%</th>\n",
       "      <td>100.000000</td>\n",
       "      <td>80.992500</td>\n",
       "      <td>1.325000</td>\n",
       "      <td>1.180000</td>\n",
       "      <td>1.730000</td>\n",
       "    </tr>\n",
       "    <tr>\n",
       "      <th>50%</th>\n",
       "      <td>180.500000</td>\n",
       "      <td>214.180000</td>\n",
       "      <td>5.665000</td>\n",
       "      <td>3.160000</td>\n",
       "      <td>5.040000</td>\n",
       "    </tr>\n",
       "    <tr>\n",
       "      <th>75%</th>\n",
       "      <td>362.500000</td>\n",
       "      <td>619.310000</td>\n",
       "      <td>35.492500</td>\n",
       "      <td>9.025000</td>\n",
       "      <td>30.892500</td>\n",
       "    </tr>\n",
       "    <tr>\n",
       "      <th>max</th>\n",
       "      <td>1766.000000</td>\n",
       "      <td>15199.440000</td>\n",
       "      <td>9999.000000</td>\n",
       "      <td>123.800000</td>\n",
       "      <td>273.050000</td>\n",
       "    </tr>\n",
       "  </tbody>\n",
       "</table>\n",
       "</div>"
      ],
      "text/plain": [
       "       Issue Price    Issue Size          QIB         RII       Total\n",
       "count   364.000000    364.000000   364.000000  364.000000  364.000000\n",
       "mean    277.642857    733.712363    52.549121    8.233352   23.441181\n",
       "std     272.702613   1659.343851   524.248921   13.636770   38.976427\n",
       "min      10.000000     14.000000     0.010000    0.030000    0.440000\n",
       "25%     100.000000     80.992500     1.325000    1.180000    1.730000\n",
       "50%     180.500000    214.180000     5.665000    3.160000    5.040000\n",
       "75%     362.500000    619.310000    35.492500    9.025000   30.892500\n",
       "max    1766.000000  15199.440000  9999.000000  123.800000  273.050000"
      ]
     },
     "execution_count": 25,
     "metadata": {},
     "output_type": "execute_result"
    }
   ],
   "source": [
    "variables.describe()"
   ]
  },
  {
   "cell_type": "code",
   "execution_count": 26,
   "metadata": {},
   "outputs": [
    {
     "data": {
      "text/html": [
       "<div>\n",
       "<style scoped>\n",
       "    .dataframe tbody tr th:only-of-type {\n",
       "        vertical-align: middle;\n",
       "    }\n",
       "\n",
       "    .dataframe tbody tr th {\n",
       "        vertical-align: top;\n",
       "    }\n",
       "\n",
       "    .dataframe thead th {\n",
       "        text-align: right;\n",
       "    }\n",
       "</style>\n",
       "<table border=\"1\" class=\"dataframe\">\n",
       "  <thead>\n",
       "    <tr style=\"text-align: right;\">\n",
       "      <th></th>\n",
       "      <th>VIF</th>\n",
       "      <th>Features</th>\n",
       "    </tr>\n",
       "  </thead>\n",
       "  <tbody>\n",
       "    <tr>\n",
       "      <th>0</th>\n",
       "      <td>1.610146</td>\n",
       "      <td>Issue Price</td>\n",
       "    </tr>\n",
       "    <tr>\n",
       "      <th>1</th>\n",
       "      <td>1.274678</td>\n",
       "      <td>Issue Size</td>\n",
       "    </tr>\n",
       "    <tr>\n",
       "      <th>2</th>\n",
       "      <td>1.216699</td>\n",
       "      <td>QIB</td>\n",
       "    </tr>\n",
       "    <tr>\n",
       "      <th>3</th>\n",
       "      <td>2.466143</td>\n",
       "      <td>RII</td>\n",
       "    </tr>\n",
       "    <tr>\n",
       "      <th>4</th>\n",
       "      <td>3.119191</td>\n",
       "      <td>Total</td>\n",
       "    </tr>\n",
       "  </tbody>\n",
       "</table>\n",
       "</div>"
      ],
      "text/plain": [
       "        VIF     Features\n",
       "0  1.610146  Issue Price\n",
       "1  1.274678   Issue Size\n",
       "2  1.216699          QIB\n",
       "3  2.466143          RII\n",
       "4  3.119191        Total"
      ]
     },
     "execution_count": 26,
     "metadata": {},
     "output_type": "execute_result"
    }
   ],
   "source": [
    "vif['VIF'] = [variance_inflation_factor(variables.values, i) for i in range(variables.shape[1])]\n",
    "vif[\"Features\"] = variables.columns\n",
    "vif"
   ]
  },
  {
   "cell_type": "code",
   "execution_count": 27,
   "metadata": {},
   "outputs": [],
   "source": [
    "data_no_multicollinearity = data.drop(['NII'],axis=1)"
   ]
  },
  {
   "cell_type": "code",
   "execution_count": 28,
   "metadata": {},
   "outputs": [
    {
     "data": {
      "text/html": [
       "<div>\n",
       "<style scoped>\n",
       "    .dataframe tbody tr th:only-of-type {\n",
       "        vertical-align: middle;\n",
       "    }\n",
       "\n",
       "    .dataframe tbody tr th {\n",
       "        vertical-align: top;\n",
       "    }\n",
       "\n",
       "    .dataframe thead th {\n",
       "        text-align: right;\n",
       "    }\n",
       "</style>\n",
       "<table border=\"1\" class=\"dataframe\">\n",
       "  <thead>\n",
       "    <tr style=\"text-align: right;\">\n",
       "      <th></th>\n",
       "      <th>Issue Price</th>\n",
       "      <th>Issue Size</th>\n",
       "      <th>QIB</th>\n",
       "      <th>RII</th>\n",
       "      <th>Total</th>\n",
       "      <th>Open Price</th>\n",
       "      <th>Year</th>\n",
       "    </tr>\n",
       "  </thead>\n",
       "  <tbody>\n",
       "    <tr>\n",
       "      <th>0</th>\n",
       "      <td>120</td>\n",
       "      <td>212.04</td>\n",
       "      <td>1.13</td>\n",
       "      <td>2.95</td>\n",
       "      <td>1.46</td>\n",
       "      <td>111.0</td>\n",
       "      <td>2019</td>\n",
       "    </tr>\n",
       "    <tr>\n",
       "      <th>1</th>\n",
       "      <td>280</td>\n",
       "      <td>1641.18</td>\n",
       "      <td>4.66</td>\n",
       "      <td>0.03</td>\n",
       "      <td>1.57</td>\n",
       "      <td>291.0</td>\n",
       "      <td>2019</td>\n",
       "    </tr>\n",
       "    <tr>\n",
       "      <th>2</th>\n",
       "      <td>66</td>\n",
       "      <td>23.00</td>\n",
       "      <td>1.24</td>\n",
       "      <td>2.64</td>\n",
       "      <td>3.25</td>\n",
       "      <td>57.0</td>\n",
       "      <td>2019</td>\n",
       "    </tr>\n",
       "    <tr>\n",
       "      <th>3</th>\n",
       "      <td>118</td>\n",
       "      <td>344.69</td>\n",
       "      <td>1.81</td>\n",
       "      <td>0.24</td>\n",
       "      <td>1.02</td>\n",
       "      <td>104.0</td>\n",
       "      <td>2018</td>\n",
       "    </tr>\n",
       "    <tr>\n",
       "      <th>4</th>\n",
       "      <td>821</td>\n",
       "      <td>1734.07</td>\n",
       "      <td>2.77</td>\n",
       "      <td>0.25</td>\n",
       "      <td>0.97</td>\n",
       "      <td>758.0</td>\n",
       "      <td>2018</td>\n",
       "    </tr>\n",
       "  </tbody>\n",
       "</table>\n",
       "</div>"
      ],
      "text/plain": [
       "   Issue Price  Issue Size   QIB   RII  Total  Open Price  Year\n",
       "0          120      212.04  1.13  2.95   1.46       111.0  2019\n",
       "1          280     1641.18  4.66  0.03   1.57       291.0  2019\n",
       "2           66       23.00  1.24  2.64   3.25        57.0  2019\n",
       "3          118      344.69  1.81  0.24   1.02       104.0  2018\n",
       "4          821     1734.07  2.77  0.25   0.97       758.0  2018"
      ]
     },
     "execution_count": 28,
     "metadata": {},
     "output_type": "execute_result"
    }
   ],
   "source": [
    "data_no_multicollinearity.head()"
   ]
  },
  {
   "cell_type": "markdown",
   "metadata": {},
   "source": [
    "# Data with Dummies"
   ]
  },
  {
   "cell_type": "code",
   "execution_count": 29,
   "metadata": {},
   "outputs": [],
   "source": [
    "data_with_dummies = pd.get_dummies(data_no_multicollinearity, drop_first=True)"
   ]
  },
  {
   "cell_type": "code",
   "execution_count": 30,
   "metadata": {},
   "outputs": [
    {
     "data": {
      "text/html": [
       "<div>\n",
       "<style scoped>\n",
       "    .dataframe tbody tr th:only-of-type {\n",
       "        vertical-align: middle;\n",
       "    }\n",
       "\n",
       "    .dataframe tbody tr th {\n",
       "        vertical-align: top;\n",
       "    }\n",
       "\n",
       "    .dataframe thead th {\n",
       "        text-align: right;\n",
       "    }\n",
       "</style>\n",
       "<table border=\"1\" class=\"dataframe\">\n",
       "  <thead>\n",
       "    <tr style=\"text-align: right;\">\n",
       "      <th></th>\n",
       "      <th>Issue Price</th>\n",
       "      <th>Issue Size</th>\n",
       "      <th>QIB</th>\n",
       "      <th>RII</th>\n",
       "      <th>Total</th>\n",
       "      <th>Open Price</th>\n",
       "      <th>Year</th>\n",
       "    </tr>\n",
       "  </thead>\n",
       "  <tbody>\n",
       "    <tr>\n",
       "      <th>0</th>\n",
       "      <td>120</td>\n",
       "      <td>212.04</td>\n",
       "      <td>1.13</td>\n",
       "      <td>2.95</td>\n",
       "      <td>1.46</td>\n",
       "      <td>111.0</td>\n",
       "      <td>2019</td>\n",
       "    </tr>\n",
       "    <tr>\n",
       "      <th>1</th>\n",
       "      <td>280</td>\n",
       "      <td>1641.18</td>\n",
       "      <td>4.66</td>\n",
       "      <td>0.03</td>\n",
       "      <td>1.57</td>\n",
       "      <td>291.0</td>\n",
       "      <td>2019</td>\n",
       "    </tr>\n",
       "    <tr>\n",
       "      <th>2</th>\n",
       "      <td>66</td>\n",
       "      <td>23.00</td>\n",
       "      <td>1.24</td>\n",
       "      <td>2.64</td>\n",
       "      <td>3.25</td>\n",
       "      <td>57.0</td>\n",
       "      <td>2019</td>\n",
       "    </tr>\n",
       "    <tr>\n",
       "      <th>3</th>\n",
       "      <td>118</td>\n",
       "      <td>344.69</td>\n",
       "      <td>1.81</td>\n",
       "      <td>0.24</td>\n",
       "      <td>1.02</td>\n",
       "      <td>104.0</td>\n",
       "      <td>2018</td>\n",
       "    </tr>\n",
       "    <tr>\n",
       "      <th>4</th>\n",
       "      <td>821</td>\n",
       "      <td>1734.07</td>\n",
       "      <td>2.77</td>\n",
       "      <td>0.25</td>\n",
       "      <td>0.97</td>\n",
       "      <td>758.0</td>\n",
       "      <td>2018</td>\n",
       "    </tr>\n",
       "  </tbody>\n",
       "</table>\n",
       "</div>"
      ],
      "text/plain": [
       "   Issue Price  Issue Size   QIB   RII  Total  Open Price  Year\n",
       "0          120      212.04  1.13  2.95   1.46       111.0  2019\n",
       "1          280     1641.18  4.66  0.03   1.57       291.0  2019\n",
       "2           66       23.00  1.24  2.64   3.25        57.0  2019\n",
       "3          118      344.69  1.81  0.24   1.02       104.0  2018\n",
       "4          821     1734.07  2.77  0.25   0.97       758.0  2018"
      ]
     },
     "execution_count": 30,
     "metadata": {},
     "output_type": "execute_result"
    }
   ],
   "source": [
    "data_with_dummies.head()"
   ]
  },
  {
   "cell_type": "code",
   "execution_count": 31,
   "metadata": {},
   "outputs": [],
   "source": [
    "data_preprocessed = data_with_dummies"
   ]
  },
  {
   "cell_type": "code",
   "execution_count": 32,
   "metadata": {},
   "outputs": [],
   "source": [
    "targets = data_preprocessed['Open Price']\n",
    "inputs = data_preprocessed.drop(['Open Price'], axis=1)"
   ]
  },
  {
   "cell_type": "code",
   "execution_count": 33,
   "metadata": {},
   "outputs": [],
   "source": [
    "from sklearn.preprocessing import StandardScaler"
   ]
  },
  {
   "cell_type": "code",
   "execution_count": 34,
   "metadata": {},
   "outputs": [],
   "source": [
    "Scaler = StandardScaler()"
   ]
  },
  {
   "cell_type": "code",
   "execution_count": 35,
   "metadata": {},
   "outputs": [
    {
     "data": {
      "text/plain": [
       "StandardScaler(copy=True, with_mean=True, with_std=True)"
      ]
     },
     "execution_count": 35,
     "metadata": {},
     "output_type": "execute_result"
    }
   ],
   "source": [
    "Scaler.fit(inputs)"
   ]
  },
  {
   "cell_type": "code",
   "execution_count": 36,
   "metadata": {},
   "outputs": [],
   "source": [
    "input_scaled=Scaler.transform(inputs)"
   ]
  },
  {
   "cell_type": "code",
   "execution_count": 37,
   "metadata": {},
   "outputs": [],
   "source": [
    "from sklearn.model_selection import train_test_split"
   ]
  },
  {
   "cell_type": "code",
   "execution_count": 38,
   "metadata": {},
   "outputs": [],
   "source": [
    "x_train,x_test, y_train,y_test = train_test_split(input_scaled, targets, test_size=0.2, random_state=376)"
   ]
  },
  {
   "cell_type": "code",
   "execution_count": 39,
   "metadata": {},
   "outputs": [
    {
     "data": {
      "text/plain": [
       "(array([[ 1.70225548e-01, -3.06996399e-01, -5.16287671e-02,\n",
       "         -3.50517173e-01, -1.92719215e-01, -3.16783603e-01],\n",
       "        [-8.79979528e-01, -4.19846667e-01, -9.91715644e-02,\n",
       "         -5.06193198e-01, -5.71930902e-01, -8.29269075e-01],\n",
       "        [-2.80649209e-02, -3.76396296e-01, -1.33691356e-02,\n",
       "          3.09638499e+00,  1.17254562e+00, -1.08551181e+00],\n",
       "        ...,\n",
       "        [-6.22936328e-01, -4.21132074e-01,  1.89988790e+01,\n",
       "          3.72202637e+00,  6.41291200e+00,  1.47691555e+00],\n",
       "        [ 5.96182852e-01, -1.53338991e-01, -6.75973402e-02,\n",
       "         -5.08396160e-01, -3.20921540e-01, -8.29269075e-01],\n",
       "        [-6.30280419e-01, -3.66016486e-01, -8.68704147e-02,\n",
       "         -3.54923099e-01, -4.75586469e-01,  1.95701870e-01]]), 182     333.55\n",
       " 262      35.00\n",
       " 343     472.50\n",
       " 42      399.00\n",
       " 296     399.70\n",
       " 384     500.00\n",
       " 102     295.00\n",
       " 280      93.45\n",
       " 23     1520.00\n",
       " 206      28.00\n",
       " 39     1250.00\n",
       " 304     400.00\n",
       " 272     151.00\n",
       " 297     701.10\n",
       " 1       291.00\n",
       " 293     801.00\n",
       " 70      329.00\n",
       " 132     157.40\n",
       " 381     104.00\n",
       " 84      458.00\n",
       " 26      478.00\n",
       " 252      90.00\n",
       " 316     515.00\n",
       " 217     135.00\n",
       " 393     189.90\n",
       " 59      707.00\n",
       " 110     181.00\n",
       " 141     251.60\n",
       " 170      64.00\n",
       " 77      666.60\n",
       "         ...   \n",
       " 51      170.00\n",
       " 259      14.70\n",
       " 24     1180.00\n",
       " 154     110.00\n",
       " 369      94.80\n",
       " 364      94.00\n",
       " 270     260.00\n",
       " 61      398.00\n",
       " 331     183.75\n",
       " 121     949.00\n",
       " 19      485.00\n",
       " 150      72.00\n",
       " 241      60.05\n",
       " 124     153.00\n",
       " 340      37.90\n",
       " 324     876.00\n",
       " 299      67.90\n",
       " 215     120.00\n",
       " 180     280.00\n",
       " 292     200.00\n",
       " 159      78.35\n",
       " 73      273.70\n",
       " 111     585.00\n",
       " 211     130.00\n",
       " 81      227.00\n",
       " 15      431.10\n",
       " 370     151.00\n",
       " 49      259.15\n",
       " 283     440.00\n",
       " 126     100.00\n",
       " Name: Open Price, Length: 291, dtype: float64)"
      ]
     },
     "execution_count": 39,
     "metadata": {},
     "output_type": "execute_result"
    }
   ],
   "source": [
    "x_train, y_train"
   ]
  },
  {
   "cell_type": "code",
   "execution_count": 44,
   "metadata": {},
   "outputs": [
    {
     "data": {
      "text/plain": [
       "((291, 6), (73, 6), (291,), (73,))"
      ]
     },
     "execution_count": 44,
     "metadata": {},
     "output_type": "execute_result"
    }
   ],
   "source": [
    "x_train.shape, x_test.shape, y_train.shape, y_test.shape"
   ]
  },
  {
   "cell_type": "code",
   "execution_count": null,
   "metadata": {},
   "outputs": [],
   "source": []
  },
  {
   "cell_type": "code",
   "execution_count": null,
   "metadata": {},
   "outputs": [],
   "source": []
  },
  {
   "cell_type": "markdown",
   "metadata": {},
   "source": [
    "# Create the Regression"
   ]
  },
  {
   "cell_type": "code",
   "execution_count": 45,
   "metadata": {},
   "outputs": [],
   "source": [
    "reg = LinearRegression()"
   ]
  },
  {
   "cell_type": "code",
   "execution_count": 46,
   "metadata": {},
   "outputs": [
    {
     "data": {
      "text/plain": [
       "LinearRegression(copy_X=True, fit_intercept=True, n_jobs=None, normalize=False)"
      ]
     },
     "execution_count": 46,
     "metadata": {},
     "output_type": "execute_result"
    }
   ],
   "source": [
    "reg.fit(x_train,y_train)"
   ]
  },
  {
   "cell_type": "code",
   "execution_count": 47,
   "metadata": {},
   "outputs": [],
   "source": [
    "y_hat = reg.predict(x_train)"
   ]
  },
  {
   "cell_type": "code",
   "execution_count": 48,
   "metadata": {},
   "outputs": [
    {
     "data": {
      "image/png": "[encoded data removed]",
      "text/plain": [
       "<Figure size 432x288 with 1 Axes>"
      ]
     },
     "metadata": {
      "needs_background": "light"
     },
     "output_type": "display_data"
    }
   ],
   "source": [
    "# The simplest way to compare the targets (y_train) and the predictions (y_hat) is to plot them on a scatter plot\n",
    "# The closer the points to the 45-degree line, the better the prediction\n",
    "plt.scatter(y_train, y_hat)\n",
    "# Let's also name the axes\n",
    "plt.xlabel('Targets (y_train)',size=18)\n",
    "plt.ylabel('Predictions (y_hat)',size=18)\n",
    "\n",
    "plt.show()"
   ]
  },
  {
   "cell_type": "code",
   "execution_count": 49,
   "metadata": {},
   "outputs": [
    {
     "data": {
      "text/plain": [
       "Text(0.5, 1.0, 'Residuals PDF')"
      ]
     },
     "execution_count": 49,
     "metadata": {},
     "output_type": "execute_result"
    },
    {
     "data": {
      "image/png": "[encoded data removed]",
      "text/plain": [
       "<Figure size 432x288 with 1 Axes>"
      ]
     },
     "metadata": {
      "needs_background": "light"
     },
     "output_type": "display_data"
    }
   ],
   "source": [
    "sns.distplot(y_train - y_hat)\n",
    "\n",
    "# Include a title\n",
    "plt.title(\"Residuals PDF\", size=18)\n"
   ]
  },
  {
   "cell_type": "code",
   "execution_count": 50,
   "metadata": {},
   "outputs": [
    {
     "data": {
      "text/plain": [
       "0.9618628194089115"
      ]
     },
     "execution_count": 50,
     "metadata": {},
     "output_type": "execute_result"
    }
   ],
   "source": [
    "reg.score(x_train,y_train)"
   ]
  },
  {
   "cell_type": "code",
   "execution_count": 51,
   "metadata": {},
   "outputs": [
    {
     "data": {
      "text/plain": [
       "318.459930299803"
      ]
     },
     "execution_count": 51,
     "metadata": {},
     "output_type": "execute_result"
    }
   ],
   "source": [
    "reg.intercept_"
   ]
  },
  {
   "cell_type": "code",
   "execution_count": 52,
   "metadata": {},
   "outputs": [
    {
     "data": {
      "text/plain": [
       "array([309.58468019,  -7.18453144, -14.62463187,   1.19290082,\n",
       "        67.5669913 , -13.32228523])"
      ]
     },
     "execution_count": 52,
     "metadata": {},
     "output_type": "execute_result"
    }
   ],
   "source": [
    "reg.coef_"
   ]
  },
  {
   "cell_type": "code",
   "execution_count": 53,
   "metadata": {},
   "outputs": [
    {
     "data": {
      "text/html": [
       "<div>\n",
       "<style scoped>\n",
       "    .dataframe tbody tr th:only-of-type {\n",
       "        vertical-align: middle;\n",
       "    }\n",
       "\n",
       "    .dataframe tbody tr th {\n",
       "        vertical-align: top;\n",
       "    }\n",
       "\n",
       "    .dataframe thead th {\n",
       "        text-align: right;\n",
       "    }\n",
       "</style>\n",
       "<table border=\"1\" class=\"dataframe\">\n",
       "  <thead>\n",
       "    <tr style=\"text-align: right;\">\n",
       "      <th></th>\n",
       "      <th>Features</th>\n",
       "      <th>Weights</th>\n",
       "    </tr>\n",
       "  </thead>\n",
       "  <tbody>\n",
       "    <tr>\n",
       "      <th>0</th>\n",
       "      <td>Issue Price</td>\n",
       "      <td>309.584680</td>\n",
       "    </tr>\n",
       "    <tr>\n",
       "      <th>1</th>\n",
       "      <td>Issue Size</td>\n",
       "      <td>-7.184531</td>\n",
       "    </tr>\n",
       "    <tr>\n",
       "      <th>2</th>\n",
       "      <td>QIB</td>\n",
       "      <td>-14.624632</td>\n",
       "    </tr>\n",
       "    <tr>\n",
       "      <th>3</th>\n",
       "      <td>RII</td>\n",
       "      <td>1.192901</td>\n",
       "    </tr>\n",
       "    <tr>\n",
       "      <th>4</th>\n",
       "      <td>Total</td>\n",
       "      <td>67.566991</td>\n",
       "    </tr>\n",
       "  </tbody>\n",
       "</table>\n",
       "</div>"
      ],
      "text/plain": [
       "      Features     Weights\n",
       "0  Issue Price  309.584680\n",
       "1   Issue Size   -7.184531\n",
       "2          QIB  -14.624632\n",
       "3          RII    1.192901\n",
       "4        Total   67.566991"
      ]
     },
     "execution_count": 53,
     "metadata": {},
     "output_type": "execute_result"
    }
   ],
   "source": [
    "reg_summary = pd.DataFrame(inputs.columns.values, columns=['Features'])\n",
    "reg_summary['Weights'] = reg.coef_\n",
    "reg_summary.head()"
   ]
  },
  {
   "cell_type": "code",
   "execution_count": null,
   "metadata": {},
   "outputs": [],
   "source": []
  },
  {
   "cell_type": "markdown",
   "metadata": {},
   "source": [
    "# Testing"
   ]
  },
  {
   "cell_type": "code",
   "execution_count": 57,
   "metadata": {},
   "outputs": [],
   "source": [
    "y_hat_test = reg.predict(x_test)"
   ]
  },
  {
   "cell_type": "code",
   "execution_count": 58,
   "metadata": {},
   "outputs": [
    {
     "data": {
      "image/png": "[encoded data removed]",
      "text/plain": [
       "<Figure size 432x288 with 1 Axes>"
      ]
     },
     "metadata": {
      "needs_background": "light"
     },
     "output_type": "display_data"
    }
   ],
   "source": [
    "plt.scatter(y_test, y_hat_test, alpha=0.2)\n",
    "plt.xlabel('Targets (y_test)',size=18)\n",
    "plt.ylabel('Predictions (y_hat_test)',size=18)\n",
    "plt.show()"
   ]
  },
  {
   "cell_type": "code",
   "execution_count": 59,
   "metadata": {},
   "outputs": [
    {
     "data": {
      "text/html": [
       "<div>\n",
       "<style scoped>\n",
       "    .dataframe tbody tr th:only-of-type {\n",
       "        vertical-align: middle;\n",
       "    }\n",
       "\n",
       "    .dataframe tbody tr th {\n",
       "        vertical-align: top;\n",
       "    }\n",
       "\n",
       "    .dataframe thead th {\n",
       "        text-align: right;\n",
       "    }\n",
       "</style>\n",
       "<table border=\"1\" class=\"dataframe\">\n",
       "  <thead>\n",
       "    <tr style=\"text-align: right;\">\n",
       "      <th></th>\n",
       "      <th>Prediction</th>\n",
       "    </tr>\n",
       "  </thead>\n",
       "  <tbody>\n",
       "    <tr>\n",
       "      <th>0</th>\n",
       "      <td>180.437880</td>\n",
       "    </tr>\n",
       "    <tr>\n",
       "      <th>1</th>\n",
       "      <td>-19.860353</td>\n",
       "    </tr>\n",
       "    <tr>\n",
       "      <th>2</th>\n",
       "      <td>138.213804</td>\n",
       "    </tr>\n",
       "    <tr>\n",
       "      <th>3</th>\n",
       "      <td>55.461541</td>\n",
       "    </tr>\n",
       "    <tr>\n",
       "      <th>4</th>\n",
       "      <td>349.738478</td>\n",
       "    </tr>\n",
       "  </tbody>\n",
       "</table>\n",
       "</div>"
      ],
      "text/plain": [
       "   Prediction\n",
       "0  180.437880\n",
       "1  -19.860353\n",
       "2  138.213804\n",
       "3   55.461541\n",
       "4  349.738478"
      ]
     },
     "execution_count": 59,
     "metadata": {},
     "output_type": "execute_result"
    }
   ],
   "source": [
    "pf_df = pd.DataFrame(y_hat_test, columns=['Prediction'])\n",
    "pf_df.head()"
   ]
  },
  {
   "cell_type": "code",
   "execution_count": 60,
   "metadata": {},
   "outputs": [
    {
     "data": {
      "text/html": [
       "<div>\n",
       "<style scoped>\n",
       "    .dataframe tbody tr th:only-of-type {\n",
       "        vertical-align: middle;\n",
       "    }\n",
       "\n",
       "    .dataframe tbody tr th {\n",
       "        vertical-align: top;\n",
       "    }\n",
       "\n",
       "    .dataframe thead th {\n",
       "        text-align: right;\n",
       "    }\n",
       "</style>\n",
       "<table border=\"1\" class=\"dataframe\">\n",
       "  <thead>\n",
       "    <tr style=\"text-align: right;\">\n",
       "      <th></th>\n",
       "      <th>Prediction</th>\n",
       "    </tr>\n",
       "  </thead>\n",
       "  <tbody>\n",
       "    <tr>\n",
       "      <th>0</th>\n",
       "      <td>180.437880</td>\n",
       "    </tr>\n",
       "    <tr>\n",
       "      <th>1</th>\n",
       "      <td>-19.860353</td>\n",
       "    </tr>\n",
       "    <tr>\n",
       "      <th>2</th>\n",
       "      <td>138.213804</td>\n",
       "    </tr>\n",
       "    <tr>\n",
       "      <th>3</th>\n",
       "      <td>55.461541</td>\n",
       "    </tr>\n",
       "    <tr>\n",
       "      <th>4</th>\n",
       "      <td>349.738478</td>\n",
       "    </tr>\n",
       "  </tbody>\n",
       "</table>\n",
       "</div>"
      ],
      "text/plain": [
       "   Prediction\n",
       "0  180.437880\n",
       "1  -19.860353\n",
       "2  138.213804\n",
       "3   55.461541\n",
       "4  349.738478"
      ]
     },
     "execution_count": 60,
     "metadata": {},
     "output_type": "execute_result"
    }
   ],
   "source": [
    "pf_df.head()"
   ]
  },
  {
   "cell_type": "code",
   "execution_count": 61,
   "metadata": {},
   "outputs": [
    {
     "data": {
      "text/html": [
       "<div>\n",
       "<style scoped>\n",
       "    .dataframe tbody tr th:only-of-type {\n",
       "        vertical-align: middle;\n",
       "    }\n",
       "\n",
       "    .dataframe tbody tr th {\n",
       "        vertical-align: top;\n",
       "    }\n",
       "\n",
       "    .dataframe thead th {\n",
       "        text-align: right;\n",
       "    }\n",
       "</style>\n",
       "<table border=\"1\" class=\"dataframe\">\n",
       "  <thead>\n",
       "    <tr style=\"text-align: right;\">\n",
       "      <th></th>\n",
       "      <th>Prediction</th>\n",
       "      <th>Target</th>\n",
       "    </tr>\n",
       "  </thead>\n",
       "  <tbody>\n",
       "    <tr>\n",
       "      <th>0</th>\n",
       "      <td>180.437880</td>\n",
       "      <td>NaN</td>\n",
       "    </tr>\n",
       "    <tr>\n",
       "      <th>1</th>\n",
       "      <td>-19.860353</td>\n",
       "      <td>NaN</td>\n",
       "    </tr>\n",
       "    <tr>\n",
       "      <th>2</th>\n",
       "      <td>138.213804</td>\n",
       "      <td>NaN</td>\n",
       "    </tr>\n",
       "    <tr>\n",
       "      <th>3</th>\n",
       "      <td>55.461541</td>\n",
       "      <td>NaN</td>\n",
       "    </tr>\n",
       "    <tr>\n",
       "      <th>4</th>\n",
       "      <td>349.738478</td>\n",
       "      <td>758.0</td>\n",
       "    </tr>\n",
       "  </tbody>\n",
       "</table>\n",
       "</div>"
      ],
      "text/plain": [
       "   Prediction  Target\n",
       "0  180.437880     NaN\n",
       "1  -19.860353     NaN\n",
       "2  138.213804     NaN\n",
       "3   55.461541     NaN\n",
       "4  349.738478   758.0"
      ]
     },
     "execution_count": 61,
     "metadata": {},
     "output_type": "execute_result"
    }
   ],
   "source": [
    "pf_df['Target'] = (y_test)\n",
    "pf_df.head()"
   ]
  },
  {
   "cell_type": "code",
   "execution_count": 62,
   "metadata": {},
   "outputs": [
    {
     "data": {
      "text/plain": [
       "0    204.90\n",
       "1     10.10\n",
       "2    150.00\n",
       "3     56.25\n",
       "4    400.00\n",
       "Name: Open Price, dtype: float64"
      ]
     },
     "execution_count": 62,
     "metadata": {},
     "output_type": "execute_result"
    }
   ],
   "source": [
    "y_test = y_test.reset_index(drop=True)\n",
    "y_test.head()"
   ]
  },
  {
   "cell_type": "code",
   "execution_count": 63,
   "metadata": {},
   "outputs": [
    {
     "data": {
      "text/html": [
       "<div>\n",
       "<style scoped>\n",
       "    .dataframe tbody tr th:only-of-type {\n",
       "        vertical-align: middle;\n",
       "    }\n",
       "\n",
       "    .dataframe tbody tr th {\n",
       "        vertical-align: top;\n",
       "    }\n",
       "\n",
       "    .dataframe thead th {\n",
       "        text-align: right;\n",
       "    }\n",
       "</style>\n",
       "<table border=\"1\" class=\"dataframe\">\n",
       "  <thead>\n",
       "    <tr style=\"text-align: right;\">\n",
       "      <th></th>\n",
       "      <th>Prediction</th>\n",
       "      <th>Target</th>\n",
       "    </tr>\n",
       "  </thead>\n",
       "  <tbody>\n",
       "    <tr>\n",
       "      <th>0</th>\n",
       "      <td>180.437880</td>\n",
       "      <td>204.90</td>\n",
       "    </tr>\n",
       "    <tr>\n",
       "      <th>1</th>\n",
       "      <td>-19.860353</td>\n",
       "      <td>10.10</td>\n",
       "    </tr>\n",
       "    <tr>\n",
       "      <th>2</th>\n",
       "      <td>138.213804</td>\n",
       "      <td>150.00</td>\n",
       "    </tr>\n",
       "    <tr>\n",
       "      <th>3</th>\n",
       "      <td>55.461541</td>\n",
       "      <td>56.25</td>\n",
       "    </tr>\n",
       "    <tr>\n",
       "      <th>4</th>\n",
       "      <td>349.738478</td>\n",
       "      <td>400.00</td>\n",
       "    </tr>\n",
       "  </tbody>\n",
       "</table>\n",
       "</div>"
      ],
      "text/plain": [
       "   Prediction  Target\n",
       "0  180.437880  204.90\n",
       "1  -19.860353   10.10\n",
       "2  138.213804  150.00\n",
       "3   55.461541   56.25\n",
       "4  349.738478  400.00"
      ]
     },
     "execution_count": 63,
     "metadata": {},
     "output_type": "execute_result"
    }
   ],
   "source": [
    "pf_df['Target'] = (y_test)\n",
    "pf_df.head()"
   ]
  },
  {
   "cell_type": "code",
   "execution_count": 64,
   "metadata": {},
   "outputs": [],
   "source": [
    "pf_df['Residuals'] = pf_df['Prediction'] - pf_df['Target']\n",
    "pf_df['Residuals %'] = np.absolute((pf_df['Prediction'] - pf_df['Target'])/pf_df['Target']*100)"
   ]
  },
  {
   "cell_type": "code",
   "execution_count": 65,
   "metadata": {},
   "outputs": [
    {
     "data": {
      "text/html": [
       "<div>\n",
       "<style scoped>\n",
       "    .dataframe tbody tr th:only-of-type {\n",
       "        vertical-align: middle;\n",
       "    }\n",
       "\n",
       "    .dataframe tbody tr th {\n",
       "        vertical-align: top;\n",
       "    }\n",
       "\n",
       "    .dataframe thead th {\n",
       "        text-align: right;\n",
       "    }\n",
       "</style>\n",
       "<table border=\"1\" class=\"dataframe\">\n",
       "  <thead>\n",
       "    <tr style=\"text-align: right;\">\n",
       "      <th></th>\n",
       "      <th>Prediction</th>\n",
       "      <th>Target</th>\n",
       "      <th>Residuals</th>\n",
       "      <th>Residuals %</th>\n",
       "    </tr>\n",
       "  </thead>\n",
       "  <tbody>\n",
       "    <tr>\n",
       "      <th>0</th>\n",
       "      <td>180.437880</td>\n",
       "      <td>204.90</td>\n",
       "      <td>-24.462120</td>\n",
       "      <td>11.938565</td>\n",
       "    </tr>\n",
       "    <tr>\n",
       "      <th>1</th>\n",
       "      <td>-19.860353</td>\n",
       "      <td>10.10</td>\n",
       "      <td>-29.960353</td>\n",
       "      <td>296.637159</td>\n",
       "    </tr>\n",
       "    <tr>\n",
       "      <th>2</th>\n",
       "      <td>138.213804</td>\n",
       "      <td>150.00</td>\n",
       "      <td>-11.786196</td>\n",
       "      <td>7.857464</td>\n",
       "    </tr>\n",
       "    <tr>\n",
       "      <th>3</th>\n",
       "      <td>55.461541</td>\n",
       "      <td>56.25</td>\n",
       "      <td>-0.788459</td>\n",
       "      <td>1.401705</td>\n",
       "    </tr>\n",
       "    <tr>\n",
       "      <th>4</th>\n",
       "      <td>349.738478</td>\n",
       "      <td>400.00</td>\n",
       "      <td>-50.261522</td>\n",
       "      <td>12.565380</td>\n",
       "    </tr>\n",
       "  </tbody>\n",
       "</table>\n",
       "</div>"
      ],
      "text/plain": [
       "   Prediction  Target  Residuals  Residuals %\n",
       "0  180.437880  204.90 -24.462120    11.938565\n",
       "1  -19.860353   10.10 -29.960353   296.637159\n",
       "2  138.213804  150.00 -11.786196     7.857464\n",
       "3   55.461541   56.25  -0.788459     1.401705\n",
       "4  349.738478  400.00 -50.261522    12.565380"
      ]
     },
     "execution_count": 65,
     "metadata": {},
     "output_type": "execute_result"
    }
   ],
   "source": [
    "pf_df.head()"
   ]
  },
  {
   "cell_type": "code",
   "execution_count": 72,
   "metadata": {},
   "outputs": [
    {
     "data": {
      "text/html": [
       "<div>\n",
       "<style scoped>\n",
       "    .dataframe tbody tr th:only-of-type {\n",
       "        vertical-align: middle;\n",
       "    }\n",
       "\n",
       "    .dataframe tbody tr th {\n",
       "        vertical-align: top;\n",
       "    }\n",
       "\n",
       "    .dataframe thead th {\n",
       "        text-align: right;\n",
       "    }\n",
       "</style>\n",
       "<table border=\"1\" class=\"dataframe\">\n",
       "  <thead>\n",
       "    <tr style=\"text-align: right;\">\n",
       "      <th></th>\n",
       "      <th>Prediction</th>\n",
       "      <th>Target</th>\n",
       "      <th>Residuals</th>\n",
       "      <th>Residuals %</th>\n",
       "    </tr>\n",
       "  </thead>\n",
       "  <tbody>\n",
       "    <tr>\n",
       "      <th>count</th>\n",
       "      <td>73.00</td>\n",
       "      <td>73.00</td>\n",
       "      <td>73.00</td>\n",
       "      <td>73.00</td>\n",
       "    </tr>\n",
       "    <tr>\n",
       "      <th>mean</th>\n",
       "      <td>341.56</td>\n",
       "      <td>331.08</td>\n",
       "      <td>10.48</td>\n",
       "      <td>24.80</td>\n",
       "    </tr>\n",
       "    <tr>\n",
       "      <th>std</th>\n",
       "      <td>284.66</td>\n",
       "      <td>293.70</td>\n",
       "      <td>76.55</td>\n",
       "      <td>48.32</td>\n",
       "    </tr>\n",
       "    <tr>\n",
       "      <th>min</th>\n",
       "      <td>-19.86</td>\n",
       "      <td>10.10</td>\n",
       "      <td>-338.50</td>\n",
       "      <td>0.33</td>\n",
       "    </tr>\n",
       "    <tr>\n",
       "      <th>25%</th>\n",
       "      <td>127.73</td>\n",
       "      <td>120.00</td>\n",
       "      <td>-19.01</td>\n",
       "      <td>4.27</td>\n",
       "    </tr>\n",
       "    <tr>\n",
       "      <th>50%</th>\n",
       "      <td>245.94</td>\n",
       "      <td>246.00</td>\n",
       "      <td>0.71</td>\n",
       "      <td>11.94</td>\n",
       "    </tr>\n",
       "    <tr>\n",
       "      <th>75%</th>\n",
       "      <td>471.98</td>\n",
       "      <td>435.00</td>\n",
       "      <td>33.76</td>\n",
       "      <td>22.46</td>\n",
       "    </tr>\n",
       "    <tr>\n",
       "      <th>max</th>\n",
       "      <td>1216.58</td>\n",
       "      <td>1443.75</td>\n",
       "      <td>312.12</td>\n",
       "      <td>296.64</td>\n",
       "    </tr>\n",
       "  </tbody>\n",
       "</table>\n",
       "</div>"
      ],
      "text/plain": [
       "       Prediction  Target  Residuals  Residuals %\n",
       "count       73.00   73.00      73.00        73.00\n",
       "mean       341.56  331.08      10.48        24.80\n",
       "std        284.66  293.70      76.55        48.32\n",
       "min        -19.86   10.10    -338.50         0.33\n",
       "25%        127.73  120.00     -19.01         4.27\n",
       "50%        245.94  246.00       0.71        11.94\n",
       "75%        471.98  435.00      33.76        22.46\n",
       "max       1216.58 1443.75     312.12       296.64"
      ]
     },
     "execution_count": 72,
     "metadata": {},
     "output_type": "execute_result"
    }
   ],
   "source": [
    "pd.options.display.max_rows = 999\n",
    "# Moreover, to make the dataset clear, we can display the result with only 2 digits after the dot \n",
    "pd.set_option('display.float_format', lambda x: '%.2f' % x)\n",
    "# Finally, we sort by difference in % and manually check the model\n",
    "pf_df.sort_values(by=['Residuals %'])\n",
    "pf_df.describe()"
   ]
  },
  {
   "cell_type": "code",
   "execution_count": 74,
   "metadata": {},
   "outputs": [
    {
     "ename": "AttributeError",
     "evalue": "'DataFrame' object has no attribute 'extend'",
     "output_type": "error",
     "traceback": [
      "\u001b[1;31m---------------------------------------------------------------------------\u001b[0m",
      "\u001b[1;31mAttributeError\u001b[0m                            Traceback (most recent call last)",
      "\u001b[1;32m<ipython-input-74-1a0d6fc03e9b>\u001b[0m in \u001b[0;36m<module>\u001b[1;34m\u001b[0m\n\u001b[1;32m----> 1\u001b[1;33m \u001b[0mfinal_summary\u001b[0m \u001b[1;33m=\u001b[0m \u001b[0mpf_df\u001b[0m\u001b[1;33m.\u001b[0m\u001b[0mextend\u001b[0m\u001b[1;33m(\u001b[0m\u001b[0mx_test\u001b[0m\u001b[1;33m)\u001b[0m\u001b[1;33m\u001b[0m\u001b[1;33m\u001b[0m\u001b[0m\n\u001b[0m",
      "\u001b[1;32m~\\AppData\\Local\\Continuum\\anaconda3\\lib\\site-packages\\pandas\\core\\generic.py\u001b[0m in \u001b[0;36m__getattr__\u001b[1;34m(self, name)\u001b[0m\n\u001b[0;32m   5065\u001b[0m             \u001b[1;32mif\u001b[0m \u001b[0mself\u001b[0m\u001b[1;33m.\u001b[0m\u001b[0m_info_axis\u001b[0m\u001b[1;33m.\u001b[0m\u001b[0m_can_hold_identifiers_and_holds_name\u001b[0m\u001b[1;33m(\u001b[0m\u001b[0mname\u001b[0m\u001b[1;33m)\u001b[0m\u001b[1;33m:\u001b[0m\u001b[1;33m\u001b[0m\u001b[1;33m\u001b[0m\u001b[0m\n\u001b[0;32m   5066\u001b[0m                 \u001b[1;32mreturn\u001b[0m \u001b[0mself\u001b[0m\u001b[1;33m[\u001b[0m\u001b[0mname\u001b[0m\u001b[1;33m]\u001b[0m\u001b[1;33m\u001b[0m\u001b[1;33m\u001b[0m\u001b[0m\n\u001b[1;32m-> 5067\u001b[1;33m             \u001b[1;32mreturn\u001b[0m \u001b[0mobject\u001b[0m\u001b[1;33m.\u001b[0m\u001b[0m__getattribute__\u001b[0m\u001b[1;33m(\u001b[0m\u001b[0mself\u001b[0m\u001b[1;33m,\u001b[0m \u001b[0mname\u001b[0m\u001b[1;33m)\u001b[0m\u001b[1;33m\u001b[0m\u001b[1;33m\u001b[0m\u001b[0m\n\u001b[0m\u001b[0;32m   5068\u001b[0m \u001b[1;33m\u001b[0m\u001b[0m\n\u001b[0;32m   5069\u001b[0m     \u001b[1;32mdef\u001b[0m \u001b[0m__setattr__\u001b[0m\u001b[1;33m(\u001b[0m\u001b[0mself\u001b[0m\u001b[1;33m,\u001b[0m \u001b[0mname\u001b[0m\u001b[1;33m,\u001b[0m \u001b[0mvalue\u001b[0m\u001b[1;33m)\u001b[0m\u001b[1;33m:\u001b[0m\u001b[1;33m\u001b[0m\u001b[1;33m\u001b[0m\u001b[0m\n",
      "\u001b[1;31mAttributeError\u001b[0m: 'DataFrame' object has no attribute 'extend'"
     ]
    }
   ],
   "source": [
    "final_summary = pf_df.extend(x_test)"
   ]
  },
  {
   "cell_type": "code",
   "execution_count": 85,
   "metadata": {},
   "outputs": [],
   "source": [
    "pf_df.to_csv('Test.csv')\n",
    "\n"
   ]
  },
  {
   "cell_type": "code",
   "execution_count": 87,
   "metadata": {},
   "outputs": [
    {
     "data": {
      "text/plain": [
       "(73, 4)"
      ]
     },
     "execution_count": 87,
     "metadata": {},
     "output_type": "execute_result"
    }
   ],
   "source": [
    "pf_df.shape"
   ]
  },
  {
   "cell_type": "code",
   "execution_count": 93,
   "metadata": {},
   "outputs": [
    {
     "data": {
      "text/plain": [
       "pandas.core.frame.DataFrame"
      ]
     },
     "execution_count": 93,
     "metadata": {},
     "output_type": "execute_result"
    }
   ],
   "source": [
    "type(pf_df)\n",
    "#type(x_test)"
   ]
  }
 ],
 "metadata": {
  "kernelspec": {
   "display_name": "Python 3",
   "language": "python",
   "name": "python3"
  },
  "language_info": {
   "codemirror_mode": {
    "name": "ipython",
    "version": 3
   },
   "file_extension": ".py",
   "mimetype": "text/x-python",
   "name": "python",
   "nbconvert_exporter": "python",
   "pygments_lexer": "ipython3",
   "version": "3.7.3"
  }
 },
 "nbformat": 4,
 "nbformat_minor": 2
}
